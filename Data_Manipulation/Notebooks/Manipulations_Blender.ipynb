{
 "cells": [
  {
   "cell_type": "markdown",
   "id": "65b9a84e-837b-4688-8662-e64bacf4c07e",
   "metadata": {},
   "source": [
    "# Imports"
   ]
  },
  {
   "cell_type": "code",
   "execution_count": null,
   "id": "bfdd8b38-978c-4b7b-a080-73d516aff049",
   "metadata": {},
   "outputs": [],
   "source": [
    "import pyexr\n",
    "import matplotlib.pyplot as plt\n",
    "import matplotlib.image as mpimg\n",
    "import numpy as np\n",
    "import OpenEXR\n",
    "import Imath\n",
    "import cv2\n",
    "import os\n",
    "import glob\n",
    "import open3d as o3d\n",
    "import numpy as np\n",
    "import matplotlib.pyplot as plt\n",
    "from mpl_toolkits.mplot3d import Axes3D"
   ]
  },
  {
   "cell_type": "code",
   "execution_count": null,
   "id": "131c02e3-b3d6-497f-a547-afd778880542",
   "metadata": {},
   "outputs": [],
   "source": [
    "def depth_exr_to_png(input_file, output_file, depth_channel='V'):\n",
    "    # Open the EXR file\n",
    "    exr_file = OpenEXR.InputFile(input_file)\n",
    "    \n",
    "    # Get the header information\n",
    "    header = exr_file.header()\n",
    "    dw = header['dataWindow']\n",
    "    width = dw.max.x - dw.min.x + 1\n",
    "    height = dw.max.y - dw.min.y + 1\n",
    "\n",
    "    # Define the data type\n",
    "    pt = Imath.PixelType(Imath.PixelType.FLOAT)\n",
    "\n",
    "    # Read the depth channel\n",
    "    depth_str = exr_file.channel(depth_channel, pt)\n",
    "    depth = np.frombuffer(depth_str, dtype=np.float32).reshape((height, width))\n",
    "\n",
    "    # Normalize depth values to 0-255 for PNG format\n",
    "    depth_min = np.min(depth)\n",
    "    depth_max = np.max(depth)\n",
    "    depth_normalized = 255 * (depth - depth_min) / (depth_max - depth_min)\n",
    "    depth_normalized = np.clip(depth_normalized, 0, 255).astype(np.uint8)\n",
    "\n",
    "    # Save the depth image as PNG\n",
    "    cv2.imwrite(output_file, depth_normalized)\n",
    "\n",
    "# Convert the depth EXR image to PNG\n",
    "depth_exr_to_png('./heyha.exr', './wahia.png')"
   ]
  },
  {
   "cell_type": "code",
   "execution_count": null,
   "id": "a9405213-0328-4188-bf63-7be32e6c7637",
   "metadata": {
    "scrolled": true
   },
   "outputs": [],
   "source": [
    "def list_exr_channels(input_file):\n",
    "    exr_file = OpenEXR.InputFile(input_file)\n",
    "    header = exr_file.header()\n",
    "    channels = header['channels'].keys()\n",
    "    print(\"Available channels:\", channels)\n",
    "\n",
    "# List the channels in the EXR file\n",
    "list_exr_channels('./heyha.exr')"
   ]
  },
  {
   "cell_type": "code",
   "execution_count": null,
   "id": "571aa23a-1ca2-446e-81e5-c64269a6c82d",
   "metadata": {},
   "outputs": [],
   "source": [
    "# Load the image\n",
    "img = mpimg.imread('./Image0003_R.png')\n",
    "\n",
    "# Display the image\n",
    "plt.imshow(img)\n",
    "plt.axis('on')  # Hide the axis\n",
    "\n",
    "\n",
    "# Display the plot\n",
    "plt.show()"
   ]
  },
  {
   "cell_type": "code",
   "execution_count": null,
   "id": "392428d5-6444-4a66-9679-28c5bb39de1f",
   "metadata": {},
   "outputs": [],
   "source": [
    "img.shape"
   ]
  },
  {
   "cell_type": "code",
   "execution_count": null,
   "id": "584b1de1-1ec3-449f-86a7-7f3d772f5f50",
   "metadata": {},
   "outputs": [],
   "source": [
    "# Load the image\n",
    "img = mpimg.imread('./wahia.png')\n",
    "\n",
    "# Display the image\n",
    "plt.imshow(img)\n",
    "plt.axis('off')  # Hide the axis\n",
    "\n",
    "\n",
    "# Display the plot\n",
    "plt.show()"
   ]
  },
  {
   "cell_type": "code",
   "execution_count": null,
   "id": "9b5269ef-39b2-48a6-92de-b5a49530583c",
   "metadata": {},
   "outputs": [],
   "source": [
    "mpimg.imread('./wahia.png').shape"
   ]
  },
  {
   "cell_type": "code",
   "execution_count": null,
   "id": "629fc323-8296-4422-8cf3-86ff6114d5e3",
   "metadata": {},
   "outputs": [],
   "source": [
    "mpimg.imread('./1dimension.png').shape"
   ]
  },
  {
   "cell_type": "code",
   "execution_count": null,
   "id": "2fb51325-4f74-47e7-84b3-348184a356a7",
   "metadata": {},
   "outputs": [],
   "source": [
    "# Load the image\n",
    "img = mpimg.imread('./Image0003_R.png')\n",
    "\n",
    "# Display the image\n",
    "plt.imshow(img)\n",
    "plt.axis('off')  # Hide the axis\n",
    "\n",
    "\n",
    "# Display the plot\n",
    "plt.show()"
   ]
  },
  {
   "cell_type": "code",
   "execution_count": null,
   "id": "077e0a10-c959-4b21-92b5-b0b813aef6d9",
   "metadata": {},
   "outputs": [],
   "source": [
    "def depth_exr_to_png(input_file, output_file, depth_channel='V'):\n",
    "    # Open the EXR file\n",
    "    exr_file = OpenEXR.InputFile(input_file)\n",
    "    \n",
    "    # Get the header information\n",
    "    header = exr_file.header()\n",
    "    dw = header['dataWindow']\n",
    "    width = dw.max.x - dw.min.x + 1\n",
    "    height = dw.max.y - dw.min.y + 1\n",
    "\n",
    "    # Define the data type\n",
    "    pt = Imath.PixelType(Imath.PixelType.FLOAT)\n",
    "\n",
    "    # Read the depth channel\n",
    "    depth_str = exr_file.channel(depth_channel, pt)\n",
    "    depth = np.frombuffer(depth_str, dtype=np.float32).reshape((height, width))\n",
    "\n",
    "    # Normalize depth values to 0-255 for PNG format\n",
    "    depth_min = np.min(depth)\n",
    "    depth_max = np.max(depth)\n",
    "    depth_normalized = 255 * (depth - depth_min) / (depth_max - depth_min)\n",
    "    depth_normalized = np.clip(depth_normalized, 0, 255).astype(np.uint8)\n",
    "\n",
    "    # Save the depth image as PNG\n",
    "    cv2.imwrite(output_file, depth_normalized)\n",
    "\n",
    "def convert_all_exr_in_folder(input_folder, output_folder, depth_channel='V'):\n",
    "    # Ensure the output folder exists\n",
    "    os.makedirs(output_folder, exist_ok=True)\n",
    "\n",
    "    # Get all EXR files in the input folder\n",
    "    exr_files = glob.glob(os.path.join(input_folder, '*.exr'))\n",
    "\n",
    "    for exr_file in exr_files:\n",
    "        # Define the output file path\n",
    "        base_name = os.path.basename(exr_file)\n",
    "        output_file = os.path.join(output_folder, os.path.splitext(base_name)[0] + '.png')\n",
    "        \n",
    "        # Convert the EXR file to PNG\n",
    "        depth_exr_to_png(exr_file, output_file, depth_channel)\n",
    "\n",
    "    print(f\"Converted {len(exr_files)} EXR files to PNG format.\")"
   ]
  },
  {
   "cell_type": "code",
   "execution_count": null,
   "id": "7fa72e89-45e3-4a4e-b9ad-a611fe1d7554",
   "metadata": {},
   "outputs": [],
   "source": [
    "# Convert all EXR depth images in the input folder to PNG format\n",
    "input_folder = './teabox/depth/'\n",
    "output_folder = './teabox/depth_png/'\n",
    "\n",
    "convert_all_exr_in_folder(input_folder, output_folder)"
   ]
  },
  {
   "cell_type": "markdown",
   "id": "07c2387e-a8cb-4207-833b-88bef92614ab",
   "metadata": {},
   "source": [
    "---------\n",
    "---------"
   ]
  },
  {
   "cell_type": "markdown",
   "id": "75a0ec62-a333-481f-b79a-7d79b1844358",
   "metadata": {
    "jp-MarkdownHeadingCollapsed": true
   },
   "source": [
    "## Changing the position of the camera matrices"
   ]
  },
  {
   "cell_type": "markdown",
   "id": "96105078-71de-42ca-a463-a5018f0ec7af",
   "metadata": {},
   "source": [
    "---------\n",
    "---------"
   ]
  },
  {
   "cell_type": "markdown",
   "id": "656daea2-b2f3-49b6-895d-added2d6078a",
   "metadata": {},
   "source": [
    "# Matrice formating into one file"
   ]
  },
  {
   "cell_type": "code",
   "execution_count": null,
   "id": "2facb7b8-78e5-4ae0-8980-da61352bcc6e",
   "metadata": {},
   "outputs": [],
   "source": [
    "file_path = './mist_png_clean_version_640_fixed/ground-truth/Camera_L_0000.txt'\n",
    "\n",
    "with open(file_path, 'r') as file:\n",
    "    content = file.read()\n",
    "\n",
    "print(content)"
   ]
  },
  {
   "cell_type": "code",
   "execution_count": null,
   "id": "28b2687d-b65c-4ba0-9971-dd274f5efb36",
   "metadata": {},
   "outputs": [],
   "source": [
    "elements = content.split()\n",
    "\n",
    "# Convert elements to float\n",
    "elements = [float(el) for el in elements]\n",
    "\n",
    "matrix_1 = np.array(elements).reshape(4, 4)\n",
    "\n",
    "matrix_1"
   ]
  },
  {
   "cell_type": "code",
   "execution_count": null,
   "id": "529c8e0b-3adc-483f-a18e-60f175cef25e",
   "metadata": {},
   "outputs": [],
   "source": [
    "directory = './mist_png_clean_version_640_fixed/ground-truth/'\n",
    "\n",
    "file_names = sorted(os.listdir(directory))\n",
    "\n",
    "print(file_names)"
   ]
  },
  {
   "cell_type": "code",
   "execution_count": null,
   "id": "57ff1f84-db6c-4725-a1a6-fc0881e4b7bc",
   "metadata": {},
   "outputs": [],
   "source": [
    "PATH = './mist_png_clean_version_640_fixed/ground-truth/{}'\n",
    "resulting_array = []\n",
    "for file_name in file_names:\n",
    "    \n",
    "    file_path = PATH.format(file_name)\n",
    "    \n",
    "    # Open the file in read mode\n",
    "    with open(file_path, 'r') as file:\n",
    "        content = file.read()\n",
    "\n",
    "    \n",
    "    \n",
    "    # Split the string into individual elements\n",
    "    elements = content.split()\n",
    "\n",
    "\n",
    "    # Convert elements to float\n",
    "    elements = [float(el) for el in elements]\n",
    "\n",
    "    # Reshape into a 4x4 matrix\n",
    "    matrix_1 = np.array(elements).reshape(4, 4)\n",
    "\n",
    "    resulting_array.append(matrix_1)\n",
    "    "
   ]
  },
  {
   "cell_type": "code",
   "execution_count": null,
   "id": "25a455e8-58d6-4c1d-a90a-cf020e5738cb",
   "metadata": {},
   "outputs": [],
   "source": [
    "resulting_array = np.array(resulting_array)\n",
    "resulting_array.shape"
   ]
  },
  {
   "cell_type": "code",
   "execution_count": null,
   "id": "f513dec1-3ce0-4fd6-96e6-dcf84f5c9265",
   "metadata": {},
   "outputs": [],
   "source": [
    "resulting_array[0]"
   ]
  },
  {
   "cell_type": "code",
   "execution_count": null,
   "id": "ed835b89-2edd-4305-9918-f07305df53db",
   "metadata": {},
   "outputs": [],
   "source": [
    "resulting_array_str = []\n",
    "for matrice in resulting_array:\n",
    "\n",
    "    formatted_matrix = [f'{elem:.18e}' for row in np.array(matrice) for elem in row]\n",
    "\n",
    "    # Join the elements into a single space-separated string\n",
    "    result = ' '.join(formatted_matrix)\n",
    "\n",
    "    resulting_array_str.append(result) \n",
    "    print(result)\n"
   ]
  },
  {
   "cell_type": "code",
   "execution_count": null,
   "id": "01ece73f-fad0-486c-b49b-a42f5f2fea13",
   "metadata": {},
   "outputs": [],
   "source": [
    "with open('./mist_png_clean_version_640_fixed/matrix_output.txt', 'w') as file:\n",
    "    for matrice in resulting_array_str:\n",
    "        file.write(str(matrice) + \"\\n\")"
   ]
  },
  {
   "cell_type": "markdown",
   "id": "ab129587-16fc-4ec3-a7bf-e9e963a96026",
   "metadata": {},
   "source": [
    "-----------\n",
    "-----------"
   ]
  },
  {
   "cell_type": "markdown",
   "id": "df0e972a-5c60-4b9a-a97e-3938aa620858",
   "metadata": {},
   "source": [
    "## Changing the naming of both depth - RGB images inside the folders"
   ]
  },
  {
   "cell_type": "markdown",
   "id": "c97b5554-124f-417b-9f6f-aae938077489",
   "metadata": {
    "jp-MarkdownHeadingCollapsed": true
   },
   "source": [
    "----------\n",
    "---------"
   ]
  },
  {
   "cell_type": "markdown",
   "id": "6fe8c3ad-885b-4f22-948c-005ea2eb82cb",
   "metadata": {},
   "source": [
    "# Depth"
   ]
  },
  {
   "cell_type": "code",
   "execution_count": null,
   "id": "b8502d6e-40fd-4da2-a61e-9b63299b8c25",
   "metadata": {},
   "outputs": [],
   "source": [
    "# Directory containing the images\n",
    "directory = './mist_png_clean_version_640_fixed/depth/'\n",
    "\n",
    "file_names = sorted(os.listdir(directory))\n",
    "\n",
    "print(file_names)"
   ]
  },
  {
   "cell_type": "code",
   "execution_count": null,
   "id": "5687f705-00b3-4262-9fff-db1ede679b4f",
   "metadata": {},
   "outputs": [],
   "source": [
    "# Iterate through the sorted files and rename them\n",
    "for i, file_name in enumerate(file_names):\n",
    "    # Extract file extension\n",
    "    file_extension = os.path.splitext(file_name)[1]\n",
    "    \n",
    "    # Construct the new file name\n",
    "    new_file_name = f\"depth{i:06d}{file_extension}\"\n",
    "    \n",
    "    # Construct full file paths\n",
    "    old_file_path = os.path.join(directory, file_name)\n",
    "    new_file_path = os.path.join(directory, new_file_name)\n",
    "    \n",
    "    # Rename the file\n",
    "    os.rename(old_file_path, new_file_path)\n",
    "    \n",
    "    # Print the new file name (optional)\n",
    "    print(new_file_name)"
   ]
  },
  {
   "cell_type": "markdown",
   "id": "c8a2c671-0206-4c7d-a54b-5e9660bbdb2b",
   "metadata": {},
   "source": [
    "# RGB"
   ]
  },
  {
   "cell_type": "code",
   "execution_count": null,
   "id": "86f94edf-35fa-4451-8af7-86f7ede351c0",
   "metadata": {},
   "outputs": [],
   "source": [
    "# Directory containing the images\n",
    "directory = './mist_png_clean_version_640_fixed/color/'\n",
    "\n",
    "file_names = sorted(os.listdir(directory))\n",
    "\n",
    "print(file_names)"
   ]
  },
  {
   "cell_type": "code",
   "execution_count": null,
   "id": "e6c14033-deaa-4d30-a1f6-72270cf730a9",
   "metadata": {},
   "outputs": [],
   "source": [
    "# Iterate through the sorted files and rename them\n",
    "for i, file_name in enumerate(file_names):\n",
    "    # Extract file extension\n",
    "    file_extension = os.path.splitext(file_name)[1]\n",
    "    \n",
    "    # Construct the new file name\n",
    "    new_file_name = f\"frame{i:06d}{file_extension}\"\n",
    "    \n",
    "    # Construct full file paths\n",
    "    old_file_path = os.path.join(directory, file_name)\n",
    "    new_file_path = os.path.join(directory, new_file_name)\n",
    "    \n",
    "    # Rename the file\n",
    "    os.rename(old_file_path, new_file_path)\n",
    "    \n",
    "    # Print the new file name (optional)\n",
    "    print(new_file_name)"
   ]
  },
  {
   "cell_type": "markdown",
   "id": "229926e4-66ca-4582-9d38-c7e22d8efdf3",
   "metadata": {},
   "source": [
    "# Making Gif"
   ]
  },
  {
   "cell_type": "code",
   "execution_count": null,
   "id": "66318508-f6ff-424e-8810-b920f42c88cd",
   "metadata": {},
   "outputs": [],
   "source": [
    "# Get the current working directory\n",
    "current_directory = os.getcwd()\n",
    "current_directory\n",
    "\n",
    "# List all files and directories in the current directory\n",
    "files_and_directories = os.listdir(current_directory+'/teabox/color/')\n",
    "\n",
    "files_and_directories = sorted(files_and_directories)\n",
    "\n",
    "print(\"Files and Directories in '\", current_directory, \"' :\")\n",
    "for item in files_and_directories:\n",
    "    print(item)"
   ]
  },
  {
   "cell_type": "code",
   "execution_count": null,
   "id": "d41ef24a-8b1c-4a01-9835-15e9f1474e91",
   "metadata": {},
   "outputs": [],
   "source": []
  },
  {
   "cell_type": "code",
   "execution_count": null,
   "id": "2786446e-f803-4c26-ab86-c099de43cca3",
   "metadata": {},
   "outputs": [],
   "source": [
    "pcd = o3d.io.read_point_cloud(\"./teabox/resulting_mesh_first_iteration.ply\")\n",
    "\n",
    "def rotate_view(vis):\n",
    "    ctr = vis.get_view_control()\n",
    "    ctr.rotate(10.0, 0.0) # rotates 10 degrees every frame\n",
    "    \n",
    "o3d.visualization.draw_geometries_with_animation_callback([pcd], rotate_view)"
   ]
  },
  {
   "cell_type": "code",
   "execution_count": null,
   "id": "678b9488-99d7-4583-bf60-4538bee8c189",
   "metadata": {},
   "outputs": [],
   "source": []
  },
  {
   "cell_type": "code",
   "execution_count": null,
   "id": "0b885f95-59aa-4fa3-a7d2-c9964fe7147b",
   "metadata": {},
   "outputs": [],
   "source": [
    "pcd = o3d.io.read_point_cloud(\"./teabox/resulting_mesh_second_iteration.ply\")\n",
    "\n",
    "def rotate_view(vis):\n",
    "    ctr = vis.get_view_control()\n",
    "    ctr.rotate(10.0, 0.0) # rotates 10 degrees every frame\n",
    "    \n",
    "o3d.visualization.draw_geometries_with_animation_callback([pcd], rotate_view)"
   ]
  },
  {
   "cell_type": "code",
   "execution_count": null,
   "id": "7abfb10a-96ec-4f69-8bf2-d02d1df75421",
   "metadata": {},
   "outputs": [],
   "source": []
  },
  {
   "cell_type": "code",
   "execution_count": null,
   "id": "cdd8919e-c2b6-44d4-badf-93aaf0a48672",
   "metadata": {},
   "outputs": [],
   "source": [
    "# Load the point cloud\n",
    "pcd = o3d.io.read_point_cloud(\"./teabox/resulting_mesh_first_iteration.ply\")\n",
    "\n",
    "# Define the directory to save frames\n",
    "frame_dir = \"./frames\"\n",
    "os.makedirs(frame_dir, exist_ok=True)\n",
    "\n",
    "# Define the number of frames and the rotation angle per frame\n",
    "num_frames = 25\n",
    "angle_per_frame = 360 / num_frames\n",
    "\n",
    "# Function to capture and save frames\n",
    "def rotate_and_capture(vis):\n",
    "    global frame_count\n",
    "    ctr = vis.get_view_control()\n",
    "    ctr.rotate(angle_per_frame, 0.0) # rotates angle_per_frame degrees every frame\n",
    "\n",
    "    # Capture and save frame\n",
    "    frame_path = f\"{frame_dir}/frame_{frame_count:03d}.png\"\n",
    "    vis.capture_screen_image(frame_path)\n",
    "    frame_count += 1\n",
    "\n",
    "    return frame_count < num_frames\n",
    "\n",
    "# Initialize frame count\n",
    "frame_count = 0\n",
    "\n",
    "# Run the visualization with the callback to capture frames\n",
    "o3d.visualization.draw_geometries_with_animation_callback([pcd], rotate_and_capture)\n",
    "\n",
    "# Define the video properties\n",
    "frame_rate = 30  # frames per second\n",
    "video_path = \"rotating_first.mp4\"\n",
    "\n",
    "# Get the size of the first frame to set the video size\n",
    "first_frame_path = f\"{frame_dir}/frame_000.png\"\n",
    "first_frame = cv2.imread(first_frame_path)\n",
    "height, width, layers = first_frame.shape\n",
    "video_size = (width, height)\n",
    "\n",
    "# Initialize the video writer\n",
    "fourcc = cv2.VideoWriter_fourcc(*'mp4v')\n",
    "video = cv2.VideoWriter(video_path, fourcc, frame_rate, video_size)\n",
    "\n",
    "# Write all the frames to the video\n",
    "for i in range(frame_count):\n",
    "    frame_path = f\"{frame_dir}/frame_{i:03d}.png\"\n",
    "    frame = cv2.imread(frame_path)\n",
    "    video.write(frame)\n",
    "\n",
    "# Release the video writer\n",
    "video.release()\n",
    "\n",
    "print(f\"Video saved as {video_path}\")"
   ]
  },
  {
   "cell_type": "code",
   "execution_count": null,
   "id": "ff2c7a98-11ef-4d82-b0ab-eca235594166",
   "metadata": {},
   "outputs": [],
   "source": []
  },
  {
   "cell_type": "code",
   "execution_count": null,
   "id": "85ddd6c8-9112-43f8-b97d-7120067d80fa",
   "metadata": {},
   "outputs": [],
   "source": []
  },
  {
   "cell_type": "markdown",
   "id": "eff096fa-38cb-4eff-b97e-54b01eb908ad",
   "metadata": {},
   "source": [
    "# Checking on the text file -> Transformation matrices"
   ]
  },
  {
   "cell_type": "code",
   "execution_count": null,
   "id": "65534506-5e3c-443a-916b-f3e505e0e3bf",
   "metadata": {},
   "outputs": [],
   "source": [
    "file_name = './monkeyone_png_trajectory.txt'\n",
    "with open(file_name, 'r') as file:\n",
    "    content = file.readline()\n",
    "    print(content)\n"
   ]
  },
  {
   "cell_type": "code",
   "execution_count": null,
   "id": "415da856-e99d-4cc3-b9d7-f012534a5c41",
   "metadata": {},
   "outputs": [],
   "source": [
    "number_strings = content.split()\n",
    "\n",
    "# Convert each number string to a float\n",
    "numbers = [float(num) for num in number_strings]\n",
    "\n",
    "# Reshape the list into a 4x4 matrix\n",
    "matrix = np.array(numbers).reshape(4, 4)\n",
    "\n",
    "print(matrix.shape)"
   ]
  },
  {
   "cell_type": "code",
   "execution_count": null,
   "id": "63603372-bb15-4e8e-b935-8ab553f3b561",
   "metadata": {},
   "outputs": [],
   "source": []
  },
  {
   "cell_type": "code",
   "execution_count": null,
   "id": "b5c072d7-e744-4000-9387-db7e35b167ba",
   "metadata": {},
   "outputs": [],
   "source": [
    "def read_matrices_from_file(filename):\n",
    "    with open(filename, 'r') as file:\n",
    "        content = file.read()\n",
    "    \n",
    "    # Split the content by the pattern that identifies the start of a new matrix\n",
    "    raw_matrices = content.strip().split('\\n')\n",
    "    \n",
    "    matrices = []\n",
    "    for i in range(0, len(raw_matrices), 4):  # 4 rows per matrix\n",
    "        if i + 3 < len(raw_matrices):\n",
    "            matrix_str = raw_matrices[i:i+4]\n",
    "            matrix = []\n",
    "            for row in matrix_str:\n",
    "                row_values = list(map(float, row.split()))\n",
    "                matrix.append(row_values)\n",
    "            matrices.append(np.array(matrix))\n",
    "    \n",
    "    return matrices\n",
    "\n",
    "\n",
    "filename = './room1_trajectory.txt'\n",
    "matrices = read_matrices_from_file(filename)\n",
    "matrices\n",
    "\n"
   ]
  },
  {
   "cell_type": "code",
   "execution_count": null,
   "id": "99246748-7b7c-43cb-8bff-66c657dac7ca",
   "metadata": {},
   "outputs": [],
   "source": [
    "def read_and_reshape_matrices(file_name):\n",
    "    matrices = []\n",
    "    \n",
    "    with open(file_name, 'r') as file:\n",
    "        for line in file:\n",
    "            # Strip any leading/trailing whitespace and split the line into individual number strings\n",
    "            number_strings = line.strip().split()\n",
    "            \n",
    "            # Convert each number string to a float\n",
    "            numbers = [float(num) for num in number_strings]\n",
    "            \n",
    "            # Reshape the list of numbers into a 4x4 matrix\n",
    "            matrix = np.array(numbers).reshape(4, 4)\n",
    "            \n",
    "            # Append the matrix to the list of matrices\n",
    "            matrices.append(matrix)\n",
    "    \n",
    "    return matrices\n",
    "\n",
    "# Example usage\n",
    "file_name = './room1_trajectory.txt'\n",
    "matrices = read_and_reshape_matrices(file_name)\n",
    "\n",
    "# Print the matrices to verify\n",
    "for matrix in matrices:\n",
    "    print(matrix)\n",
    "    print()\n"
   ]
  },
  {
   "cell_type": "code",
   "execution_count": null,
   "id": "f2db35ff-7510-494f-a266-af09c8d0212c",
   "metadata": {},
   "outputs": [],
   "source": [
    "len(matrices)"
   ]
  },
  {
   "cell_type": "code",
   "execution_count": null,
   "id": "1dc7f246-e772-4da7-a895-ffd1193c2d5d",
   "metadata": {},
   "outputs": [],
   "source": [
    "def extract_translation_components(matrices):\n",
    "    translations = []\n",
    "    for matrix in matrices:\n",
    "        # Extract the translation part (the last column of the matrix, except for the last element which is typically 1)\n",
    "        translation = matrix[:3, 3]\n",
    "        translations.append(translation)\n",
    "    return np.array(translations)\n",
    "\n",
    "# Extract the translation components\n",
    "translations = extract_translation_components(matrices)\n",
    "\n",
    "# Print translations to verify\n",
    "print(len(translations))\n"
   ]
  },
  {
   "cell_type": "code",
   "execution_count": null,
   "id": "2df74308-dce8-4d6f-98c5-1fada205815a",
   "metadata": {},
   "outputs": [],
   "source": [
    "# Plot the camera's path in 3D space\n",
    "fig = plt.figure()\n",
    "ax = fig.add_subplot(111, projection='3d')\n",
    "\n",
    "# Extract x, y, z components\n",
    "x = translations[:, 0]\n",
    "y = translations[:, 1]\n",
    "z = translations[:, 2]\n",
    "\n",
    "# Plot the path\n",
    "ax.plot(x, y, z, label='Camera Path')\n",
    "ax.scatter(x, y, z, c='r', marker='o')  # Optional: scatter points\n",
    "\n",
    "# Set labels\n",
    "ax.set_xlabel('X')\n",
    "ax.set_ylabel('Y')\n",
    "ax.set_zlabel('Z')\n",
    "ax.set_title('Camera Movement in 3D Space')\n",
    "ax.legend()\n",
    "\n",
    "plt.show()"
   ]
  },
  {
   "cell_type": "code",
   "execution_count": null,
   "id": "6c109f2c-507e-47b5-adad-86a655785204",
   "metadata": {},
   "outputs": [],
   "source": []
  },
  {
   "cell_type": "code",
   "execution_count": null,
   "id": "b37a5919-f6c6-4a02-82bf-8417874a90a0",
   "metadata": {},
   "outputs": [],
   "source": []
  },
  {
   "cell_type": "code",
   "execution_count": null,
   "id": "e5ca833a-10f6-487e-8d65-b5b76dc24f08",
   "metadata": {},
   "outputs": [],
   "source": []
  },
  {
   "cell_type": "code",
   "execution_count": null,
   "id": "81cedc05-2039-4c6e-925a-320cc60975dc",
   "metadata": {},
   "outputs": [],
   "source": []
  },
  {
   "cell_type": "code",
   "execution_count": null,
   "id": "91cc002c-e158-49f3-892e-a326f2df5956",
   "metadata": {},
   "outputs": [],
   "source": []
  },
  {
   "cell_type": "code",
   "execution_count": null,
   "id": "21255463-ff35-420f-8cb5-d88ffadf0375",
   "metadata": {},
   "outputs": [],
   "source": [
    "def read_and_reshape_matrices(file_name):\n",
    "    matrices = []\n",
    "    with open(file_name, 'r') as file:\n",
    "        for line in file:\n",
    "            number_strings = line.strip().split()\n",
    "            numbers = [float(num) for num in number_strings]\n",
    "            matrix = np.array(numbers).reshape(4, 4)\n",
    "            matrices.append(matrix)\n",
    "    return matrices\n",
    "\n",
    "def extract_translation_components(matrices):\n",
    "    translations = []\n",
    "    for matrix in matrices:\n",
    "        translation = matrix[:3, 3]\n",
    "        translations.append(translation)\n",
    "    return np.array(translations)\n",
    "\n",
    "# Example usage\n",
    "file_name = './teabox2.txt'\n",
    "matrices = read_and_reshape_matrices(file_name)\n",
    "translations = extract_translation_components(matrices)\n",
    "\n",
    "# Plot the camera's path in 3D space\n",
    "fig = plt.figure()\n",
    "ax = fig.add_subplot(111, projection='3d')\n",
    "\n",
    "x = translations[:, 0]\n",
    "y = translations[:, 1]\n",
    "z = translations[:, 2]\n",
    "\n",
    "ax.plot(x, y, z, label='Camera Path')\n",
    "ax.scatter(x, y, z, c='r', marker='o')\n",
    "\n",
    "ax.set_xlabel('X')\n",
    "ax.set_ylabel('Y')\n",
    "ax.set_zlabel('Z')\n",
    "ax.set_title('Camera Movement in 3D Space')\n",
    "ax.legend()\n",
    "\n",
    "plt.show()\n"
   ]
  },
  {
   "cell_type": "code",
   "execution_count": null,
   "id": "50e335e3-8d34-4a5e-949f-7b91cea73c09",
   "metadata": {},
   "outputs": [],
   "source": []
  },
  {
   "cell_type": "code",
   "execution_count": null,
   "id": "e49be9c1-acac-4604-9a05-d2bb5a48cf52",
   "metadata": {},
   "outputs": [],
   "source": [
    "file_name = './room1_trajectory.txt'\n",
    "matrices = read_and_reshape_matrices(file_name)\n",
    "translations = extract_translation_components(matrices)\n",
    "\n",
    "# Extract x and y components for 2D plot\n",
    "x = translations[:, 0]\n",
    "y = translations[:, 1]\n",
    "\n",
    "# Plot the camera's path in 2D space (x, y movement)\n",
    "plt.figure()\n",
    "plt.plot(x, y, label='Camera Path')\n",
    "plt.scatter(x, y, c='r', marker='o')  # Optional: scatter points\n",
    "\n",
    "# Set labels\n",
    "plt.xlabel('X')\n",
    "plt.ylabel('Y')\n",
    "plt.title('Camera Movement in 2D Space (X, Y)')\n",
    "plt.legend()\n",
    "\n",
    "plt.show()"
   ]
  },
  {
   "cell_type": "code",
   "execution_count": null,
   "id": "ce0e9971-29e7-4da1-b692-a72a9500efa4",
   "metadata": {},
   "outputs": [],
   "source": [
    "file_name = './room1_trajectory.txt'\n",
    "matrices = read_and_reshape_matrices(file_name)\n",
    "translations = extract_translation_components(matrices)\n",
    "\n",
    "# Extract x and y components for 2D plot\n",
    "x = translations[:, 0]\n",
    "y = translations[:, 1]\n",
    "\n",
    "# Plot the camera's path in 2D space (x, y movement)\n",
    "plt.figure()\n",
    "plt.plot(x, y, label='Camera Path')\n",
    "plt.scatter(x, y, c='r', marker='o')  # Optional: scatter points\n",
    "\n",
    "# Set labels\n",
    "plt.xlabel('X')\n",
    "plt.ylabel('Y')\n",
    "plt.title('Camera Movement in 2D Space (X, Y)')\n",
    "plt.legend()\n",
    "\n",
    "plt.show()"
   ]
  },
  {
   "cell_type": "code",
   "execution_count": null,
   "id": "bcfcb8c5-2e48-4b75-888e-92fc172dad75",
   "metadata": {},
   "outputs": [],
   "source": []
  },
  {
   "cell_type": "code",
   "execution_count": null,
   "id": "c78b15a0-9b95-41f4-af76-d41d25a44095",
   "metadata": {},
   "outputs": [],
   "source": [
    "file_name = './opencv_poses.txt'\n",
    "matrices = read_and_reshape_matrices(file_name)\n",
    "translations = extract_translation_components(matrices)\n",
    "\n",
    "# Extract x and y components for 2D plot\n",
    "x = translations[:, 0]\n",
    "y = translations[:, 1]\n",
    "\n",
    "# Plot the camera's path in 2D space (x, y movement)\n",
    "plt.figure()\n",
    "#plt.plot(x, y, label='Camera Path')\n",
    "plt.scatter(x, y, c='r', marker='o')  # Optional: scatter points\n",
    "\n",
    "# Set labels\n",
    "plt.xlabel('X')\n",
    "plt.ylabel('Y')\n",
    "plt.title('Camera Movement in 2D Space (X, Y)')\n",
    "plt.legend()\n",
    "\n",
    "plt.show()"
   ]
  },
  {
   "cell_type": "code",
   "execution_count": null,
   "id": "5bf92005-145a-4b56-a081-d884fcc884de",
   "metadata": {},
   "outputs": [],
   "source": []
  },
  {
   "cell_type": "code",
   "execution_count": null,
   "id": "6d9cea1f-d530-46ee-87ea-ac97a8678928",
   "metadata": {},
   "outputs": [],
   "source": []
  },
  {
   "cell_type": "code",
   "execution_count": null,
   "id": "544c804d-5204-47fc-8b05-e4c2a7f87a0f",
   "metadata": {},
   "outputs": [],
   "source": []
  },
  {
   "cell_type": "code",
   "execution_count": null,
   "id": "d863fa16-a055-4952-8dd4-470c8271c60a",
   "metadata": {},
   "outputs": [],
   "source": []
  },
  {
   "cell_type": "code",
   "execution_count": null,
   "id": "0542bfe5-f949-4cee-8b7f-16e6e613359f",
   "metadata": {},
   "outputs": [],
   "source": []
  },
  {
   "cell_type": "code",
   "execution_count": null,
   "id": "c06dbbba-2c38-47bf-b363-26abb8da799f",
   "metadata": {},
   "outputs": [],
   "source": [
    "def read_and_reshape_matrices(file_name):\n",
    "    matrices = []\n",
    "    with open(file_name, 'r') as file:\n",
    "        for line in file:\n",
    "            number_strings = line.strip().split()\n",
    "            numbers = [float(num) for num in number_strings]\n",
    "            matrix = np.array(numbers).reshape(4, 4)\n",
    "            matrices.append(matrix)\n",
    "    return matrices\n",
    "\n",
    "def extract_translation_components(matrices):\n",
    "    translations = []\n",
    "    for matrix in matrices:\n",
    "        translation = matrix[:3, 3]  # Extracting the translation components (x, y, z)\n",
    "        translations.append(translation)\n",
    "    return np.array(translations)\n",
    "\n",
    "# Example usage\n",
    "file_name = './opencv_poses.txt'\n",
    "matrices = read_and_reshape_matrices(file_name)\n",
    "translations = extract_translation_components(matrices)\n",
    "\n",
    "# Debugging: print translations array to check its contents\n",
    "print(\"Translations array:\")\n",
    "print(translations)\n",
    "\n",
    "# Extract x, y, z components for 3D plot\n",
    "x = translations[:, 0]\n",
    "y = translations[:, 1]\n",
    "z = translations[:, 2]\n",
    "\n",
    "# Debugging: print x, y, z arrays to check their contents\n",
    "print(\"X values:\")\n",
    "print(x)\n",
    "print(\"Y values:\")\n",
    "print(y)\n",
    "print(\"Z values:\")\n",
    "print(z)\n",
    "\n",
    "# Plot the camera's path in 3D space\n",
    "fig = plt.figure()\n",
    "ax = fig.add_subplot(111, projection='3d')\n",
    "\n",
    "ax.plot(x, y, z, label='Camera Path')\n",
    "ax.scatter(x, y, z, c='r', marker='o')\n",
    "\n",
    "ax.set_xlabel('X')\n",
    "ax.set_ylabel('Y')\n",
    "ax.set_zlabel('Z')\n",
    "ax.set_title('Camera Movement in 3D Space')\n",
    "ax.legend()\n",
    "\n",
    "plt.show()\n"
   ]
  },
  {
   "cell_type": "code",
   "execution_count": null,
   "id": "2222c2ea-0adc-4648-90b5-4fd07a39328f",
   "metadata": {},
   "outputs": [],
   "source": []
  },
  {
   "cell_type": "code",
   "execution_count": null,
   "id": "0455780c-5c51-45cb-8f2d-b2b6a9f36690",
   "metadata": {},
   "outputs": [],
   "source": [
    "matrices"
   ]
  },
  {
   "cell_type": "code",
   "execution_count": null,
   "id": "0e997397-0029-4e4a-a987-49c8710dc7e2",
   "metadata": {},
   "outputs": [],
   "source": []
  },
  {
   "cell_type": "code",
   "execution_count": null,
   "id": "aabbed47-52fb-4af9-8456-ce833c5fc6e0",
   "metadata": {},
   "outputs": [],
   "source": []
  },
  {
   "cell_type": "code",
   "execution_count": null,
   "id": "92c84f07-55df-4391-b708-0ac793a99cf8",
   "metadata": {},
   "outputs": [],
   "source": []
  },
  {
   "cell_type": "code",
   "execution_count": null,
   "id": "97ad3d23-93d4-4245-bc73-5fc148953f4b",
   "metadata": {},
   "outputs": [],
   "source": []
  }
 ],
 "metadata": {
  "kernelspec": {
   "display_name": "Python 3 (ipykernel)",
   "language": "python",
   "name": "python3"
  },
  "language_info": {
   "codemirror_mode": {
    "name": "ipython",
    "version": 3
   },
   "file_extension": ".py",
   "mimetype": "text/x-python",
   "name": "python",
   "nbconvert_exporter": "python",
   "pygments_lexer": "ipython3",
   "version": "3.11.7"
  }
 },
 "nbformat": 4,
 "nbformat_minor": 5
}
